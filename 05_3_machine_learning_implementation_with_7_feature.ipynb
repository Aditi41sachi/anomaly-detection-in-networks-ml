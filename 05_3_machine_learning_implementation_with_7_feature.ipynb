{
 "cells": [
  {
   "cell_type": "code",
   "execution_count": 2,
   "metadata": {
    "scrolled": false
   },
   "outputs": [
    {
     "name": "stdout",
     "output_type": "stream",
     "text": [
      "File              ML algorithm       accuracy        Precision       Recall          F1-score        Time           \n",
      "all_data          ID3                0.95            0.93            0.89            0.91            10.7102        \n"
     ]
    },
    {
     "data": {
      "image/png": "[encoded data removed]",
      "text/plain": [
       "<Figure size 640x480 with 1 Axes>"
      ]
     },
     "metadata": {},
     "output_type": "display_data"
    },
    {
     "name": "stdout",
     "output_type": "stream",
     "text": [
      "Mission accomplished!\n",
      "Total operation time: =  121.86240196228027 seconds\n"
     ]
    }
   ],
   "source": [
    "from sklearn import metrics\n",
    "from sklearn.tree import DecisionTreeClassifier\n",
    "from sklearn.model_selection import train_test_split\n",
    "from sklearn.metrics import f1_score, recall_score, precision_score\n",
    "import matplotlib.pyplot as plt\n",
    "import numpy as np\n",
    "import os\n",
    "import pandas as pd\n",
    "import csv\n",
    "import time\n",
    "import warnings\n",
    "warnings.filterwarnings(\"ignore\")\n",
    "\n",
    "\n",
    "result = \"./results/results_3.csv\"  # CSV file for saving the results\n",
    "csv_files = [\"all_data.csv\"]  # Dataset filenames\n",
    "path = \"\"\n",
    "repetition = 10\n",
    "\n",
    "\n",
    "def folder(f_name):  # Creates folders for saving results and graphs\n",
    "    try:\n",
    "        if not os.path.exists(f_name):\n",
    "            os.makedirs(f_name)\n",
    "    except OSError:\n",
    "        print(\"The folder could not be created!\")\n",
    "\n",
    "\n",
    "folder_name = \"./results/\"\n",
    "folder(folder_name)\n",
    "folder_name = \"./results/result_graph_3/\"\n",
    "folder(folder_name)\n",
    "\n",
    "\n",
    "# Retain only ID3 algorithm\n",
    "ml_list = {\n",
    "    \"ID3\": DecisionTreeClassifier(max_depth=5, criterion=\"entropy\")\n",
    "}\n",
    "\n",
    "# List of features\n",
    "features = {\n",
    "    \"all_data\": [\"Bwd Packet Length Std\", \"Flow Bytes/s\", \"Total Length of Fwd Packets\", \"Fwd Packet Length Std\",\n",
    "                 \"Flow IAT Std\", \"Flow IAT Min\", \"Fwd IAT Total\", \"Label\"]\n",
    "}\n",
    "\n",
    "seconds = time.time()  # Timestamp for processing time\n",
    "\n",
    "with open(result, \"w\", newline=\"\", encoding=\"utf-8\") as f:  # Create CSV file to save the results\n",
    "    wrt = csv.writer(f)\n",
    "    wrt.writerow([\"File\", \"ML algorithm\", \"accuracy\", \"Precision\", \"Recall\", \"F1-score\", \"Time\"])\n",
    "\n",
    "for j in csv_files:  # Loop through the dataset files\n",
    "    print('%-17s %-17s  %-15s %-15s %-15s %-15s %-15s' % (\"File\", \"ML algorithm\", \"accuracy\", \"Precision\", \"Recall\", \"F1-score\", \"Time\"))  # Output header\n",
    "    feature_list = list(features[j[0:-4]])\n",
    "    df = pd.read_csv(path + j, usecols=feature_list)  # Read dataset\n",
    "    df = df.fillna(0)\n",
    "    \n",
    "    # Change the label to \"1\" for normal and \"0\" for attacks\n",
    "    attack_or_not = [1 if i == \"BENIGN\" else 0 for i in df[\"Label\"]]\n",
    "    df[\"Label\"] = attack_or_not\n",
    "\n",
    "    y = df[\"Label\"]  # Separate labels (y) and data (X)\n",
    "    del df[\"Label\"]\n",
    "    feature_list.remove('Label')\n",
    "    X = df[feature_list]\n",
    "\n",
    "    for ii in ml_list:  # Loop for the ID3 algorithm\n",
    "        precision = []\n",
    "        recall = []\n",
    "        f1 = []\n",
    "        accuracy = []\n",
    "        t_time = []\n",
    "        for i in range(repetition):  # Repeat cross-validation 10 times\n",
    "            second = time.time()  # Timestamp for processing time\n",
    "\n",
    "            # Split data for training and testing\n",
    "            X_train, X_test, y_train, y_test = train_test_split(X, y, test_size=0.20, random_state=repetition)\n",
    "\n",
    "            # Apply ID3 algorithm\n",
    "            clf = ml_list[ii]\n",
    "            clf.fit(X_train, y_train)\n",
    "            predict = clf.predict(X_test)\n",
    "\n",
    "            # Calculate metrics\n",
    "            f_1 = f1_score(y_test, predict, average='macro')\n",
    "            pr = precision_score(y_test, predict, average='macro')\n",
    "            rc = recall_score(y_test, predict, average='macro')\n",
    "\n",
    "            precision.append(float(pr))\n",
    "            recall.append(float(rc))\n",
    "            f1.append(float(f_1))\n",
    "            accuracy.append(clf.score(X_test, y_test))\n",
    "            t_time.append(float((time.time() - second)))\n",
    "\n",
    "        print('%-17s %-17s  %-15s %-15s %-15s %-15s %-15s' % (j[0:-4], ii, str(round(np.mean(accuracy), 2)), str(round(np.mean(precision), 2)),\n",
    "                                                               str(round(np.mean(recall), 2)), str(round(np.mean(f1), 2)), str(round(np.mean(t_time), 4))))\n",
    "\n",
    "        with open(result, \"a\", newline=\"\", encoding=\"utf-8\") as f:  # Save the results to CSV file\n",
    "            wrt = csv.writer(f)\n",
    "            for i in range(len(t_time)):\n",
    "                wrt.writerow([j[0:-4], ii, accuracy[i], precision[i], recall[i], f1[i], t_time[i]])\n",
    "\n",
    "         # Create box plots for the ID3 results\n",
    "        plt.boxplot(f1)\n",
    "        plt.title(\"All Dataset - \" + str(ii))\n",
    "        plt.ylabel('F-measure')\n",
    "        # Save the figure as a PDF without the 'papertype' and 'orientation' arguments\n",
    "        plt.savefig(folder_name + j[0:-4] + str(ii) + \".pdf\", bbox_inches='tight', format='pdf')\n",
    "        plt.show()\n",
    "\n",
    "print(\"Mission accomplished!\")\n",
    "print(\"Total operation time: = \", time.time() - seconds, \"seconds\")\n"
   ]
  }
 ],
 "metadata": {
  "kernelspec": {
   "display_name": "Python 3",
   "language": "python",
   "name": "python3"
  },
  "language_info": {
   "codemirror_mode": {
    "name": "ipython",
    "version": 3
   },
   "file_extension": ".py",
   "mimetype": "text/x-python",
   "name": "python",
   "nbconvert_exporter": "python",
   "pygments_lexer": "ipython3",
   "version": "3.11.5"
  }
 },
 "nbformat": 4,
 "nbformat_minor": 2
}
